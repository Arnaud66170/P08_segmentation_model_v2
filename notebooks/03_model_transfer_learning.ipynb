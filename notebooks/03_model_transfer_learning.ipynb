{
 "cells": [
  {
   "cell_type": "markdown",
   "id": "d5f5db14",
   "metadata": {},
   "source": [
    "## Notebook : 03_model_transfer_learning.ipynb\n",
    "- Objectif : Comparer plusieurs modèles UNet avec backbones pré-entraînés (Transfer Learning)\n",
    "# 1 - Imports & préparation\n",
    "## 1.1 - Librairies standards"
   ]
  },
  {
   "cell_type": "code",
   "execution_count": null,
   "id": "83c5ec5b",
   "metadata": {},
   "outputs": [],
   "source": [
    "import os\n",
    "import sys\n",
    "from pathlib import Path\n",
    "import numpy as np\n",
    "import matplotlib.pyplot as plt\n",
    "import pandas as pd\n",
    "import seaborn as sns"
   ]
  },
  {
   "cell_type": "code",
   "execution_count": 3,
   "id": "d02d552f",
   "metadata": {},
   "outputs": [
    {
     "name": "stdout",
     "output_type": "stream",
     "text": [
      "✅ TensorFlow version : 2.15.0\n"
     ]
    }
   ],
   "source": [
    "print(\"✅ TensorFlow version :\", tf.__version__)"
   ]
  },
  {
   "cell_type": "markdown",
   "id": "5560664d",
   "metadata": {},
   "source": [
    "## 1.2 - Ajout du dossier src/ au PYTHONPATH"
   ]
  },
  {
   "cell_type": "code",
   "execution_count": null,
   "id": "b4f94c2d",
   "metadata": {},
   "outputs": [],
   "source": [
    "project_root = Path(\"..\" ).resolve()\n",
    "src_path = project_root / \"src\"\n",
    "if str(src_path) not in sys.path:\n",
    "    sys.path.append(str(src_path))"
   ]
  },
  {
   "cell_type": "markdown",
   "id": "d16e469d",
   "metadata": {},
   "source": [
    "## 1.3 - Configuration des chemins et environnement\n",
    "- Chemins relatifs depuis notebooks/, vers data/ à la racine du projet"
   ]
  },
  {
   "cell_type": "code",
   "execution_count": null,
   "id": "da6a2be2",
   "metadata": {},
   "outputs": [],
   "source": [
    "data_dir = project_root / \"data\" / \"processed\" / \"augmented\"\n",
    "outputs_dir = project_root / \"outputs\" / \"figures\"\n",
    "logs_dir = project_root / \"outputs\" / \"logs\"\n",
    "models_dir = project_root / \"models\"\n",
    "\n",
    "outputs_dir.mkdir(parents = True, exist_ok = True)\n",
    "logs_dir.mkdir(parents = True, exist_ok = True)"
   ]
  },
  {
   "cell_type": "markdown",
   "id": "eae46693",
   "metadata": {},
   "source": [
    "## 1.4 - Chargement du mouchard guardrail pour prévenir les erreurs liées à l'environnement"
   ]
  },
  {
   "cell_type": "code",
   "execution_count": null,
   "id": "e23c2e3d",
   "metadata": {},
   "outputs": [],
   "source": [
    "from utils.guardrail import check_paths_exist, check_imports\n",
    "\n",
    "check_paths_exist([\n",
    "    models_dir,\n",
    "    data_dir / \"train.npz\",\n",
    "    data_dir / \"val.npz\"\n",
    "])\n",
    "\n",
    "check_imports([\n",
    "    \"model_training.metrics\",\n",
    "    \"utils.viz_utils\"\n",
    "])"
   ]
  },
  {
   "cell_type": "markdown",
   "id": "065c0755",
   "metadata": {},
   "source": [
    "## 1.5 - Vérification de la validité des modèles sauvegardés"
   ]
  },
  {
   "cell_type": "code",
   "execution_count": null,
   "id": "dede7f55",
   "metadata": {},
   "outputs": [],
   "source": [
    "from model_training.metrics import iou_score, dice_coef\n",
    "from utils.guardrail import check_models_validity\n",
    "\n",
    "check_models_validity(models_dir, custom_objects={\"iou_score\": iou_score, \"dice_coef\": dice_coef})"
   ]
  },
  {
   "cell_type": "markdown",
   "id": "b266366f",
   "metadata": {},
   "source": [
    "# 2 - Chargement des données pré-traitées (.npz)\n",
    "## 2.1 - Lecture des fichiers .npz"
   ]
  },
  {
   "cell_type": "code",
   "execution_count": null,
   "id": "7828d099",
   "metadata": {},
   "outputs": [],
   "source": [
    "print(\"[INFO] Chargement des données .npz...\")\n",
    "train = np.load(data_dir / \"train.npz\")\n",
    "val   = np.load(data_dir / \"val.npz\")\n",
    "\n",
    "X_train, Y_train = train[\"X\"], train[\"Y\"]\n",
    "X_val, Y_val     = val[\"X\"], val[\"Y\"]\n",
    "\n",
    "print(f\"\\n✅ Données chargées : {X_train.shape} / {Y_train.shape}\")"
   ]
  },
  {
   "cell_type": "markdown",
   "id": "3d7cb666",
   "metadata": {},
   "source": [
    "# 3 - Import du module d'entraînement multi-backbones"
   ]
  },
  {
   "cell_type": "code",
   "execution_count": null,
   "id": "61ab79e0",
   "metadata": {},
   "outputs": [],
   "source": [
    "from model_training.train_unet_backbones import train_unet_with_backbone"
   ]
  },
  {
   "cell_type": "markdown",
   "id": "fefd967b",
   "metadata": {},
   "source": [
    "# 4 - Configuration des tests\n",
    "## 4.1 - Liste des backbones à tester"
   ]
  },
  {
   "cell_type": "code",
   "execution_count": null,
   "id": "43b37a9f",
   "metadata": {},
   "outputs": [],
   "source": [
    "backbones = [\"vgg16\", \"mobilenetv2\", \"efficientnetb0\"]"
   ]
  },
  {
   "cell_type": "markdown",
   "id": "ba724084",
   "metadata": {},
   "source": [
    "## 4.2 - Paramètres communs à tous les modèles"
   ]
  },
  {
   "cell_type": "code",
   "execution_count": null,
   "id": "3b5f035c",
   "metadata": {},
   "outputs": [],
   "source": [
    "params = {\n",
    "    'img_size': (256, 256),\n",
    "    'epochs': 40,\n",
    "    'batch_size': 8,\n",
    "    'use_early_stopping': True,\n",
    "    'force_retrain': True\n",
    "}"
   ]
  },
  {
   "cell_type": "markdown",
   "id": "0a530d84",
   "metadata": {},
   "source": [
    "# 5 - Entraînement de tous les modèles + collecte des résultats\n",
    "## 5.1 - Boucle d'entraînement"
   ]
  },
  {
   "cell_type": "code",
   "execution_count": null,
   "id": "fa9ec9e4",
   "metadata": {},
   "outputs": [],
   "source": [
    "from utils.utils import clean_gpu_cache\n"
   ]
  },
  {
   "cell_type": "code",
   "execution_count": null,
   "id": "01f1c0a4",
   "metadata": {},
   "outputs": [],
   "source": [
    "results = []"
   ]
  },
  {
   "cell_type": "code",
   "execution_count": null,
   "id": "e171cecf",
   "metadata": {},
   "outputs": [],
   "source": [
    "for b in backbones:\n",
    "    print(f\"\\n🧪 Entraînement du modèle UNet + {b.upper()}...\")\n",
    "    \n",
    "    # Nettoyage du GPU avant chaque backbone\n",
    "    clean_gpu_cache()\n",
    "    print(\"🧹 Cache GPU nettoyé\")\n",
    "    \n",
    "    model, history = train_unet_with_backbone(\n",
    "        backbone_name = b,\n",
    "        X_train = X_train,\n",
    "        Y_train = Y_train,\n",
    "        X_val = X_val,\n",
    "        Y_val = Y_val,\n",
    "        **params\n",
    "    )\n",
    "\n",
    "    val_iou = max(history[\"val_iou_score\"])\n",
    "    val_dice = max(history[\"val_dice_coef\"])\n",
    "    val_acc = max(history[\"val_accuracy\"])\n",
    "    train_time = len(history[\"loss\"])\n",
    "\n",
    "    results.append({\n",
    "        \"backbone\": b,\n",
    "        \"val_iou\": val_iou,\n",
    "        \"val_dice\": val_dice,\n",
    "        \"val_accuracy\": val_acc,\n",
    "        \"epochs_run\": train_time\n",
    "    })\n",
    "\n",
    "    # Affichage intermédiaire\n",
    "    print(f\"\\n📊 Résumé intermédiaire - {b.upper()} :\")\n",
    "    print(f\"IoU max       : {val_iou:.4f}\")\n",
    "    print(f\"Dice max      : {val_dice:.4f}\")\n",
    "    print(f\"Accuracy max  : {val_acc:.4f}\")\n",
    "    print(f\"Epochs effectués : {train_time}\")\n",
    "\n",
    "    plt.figure(figsize=(8, 4))\n",
    "    plt.plot(history[\"val_iou_score\"], label = \"val_iou_score\")\n",
    "    plt.plot(history[\"val_dice_coef\"], label = \"val_dice_coef\")\n",
    "    plt.title(f\"{b.upper()} - IoU & Dice\")\n",
    "    plt.xlabel(\"Epochs\")\n",
    "    plt.ylabel(\"Score\")\n",
    "    plt.grid(True)\n",
    "    plt.legend()\n",
    "    plt.tight_layout()\n",
    "    plt.savefig(outputs_dir / f\"curve_iou_dice_{b}.png\")\n",
    "    plt.show()"
   ]
  },
  {
   "cell_type": "markdown",
   "id": "f5edc9f6",
   "metadata": {},
   "source": [
    "# 6 - Synthèse comparative des performances\n",
    "## 6.1 - Visualisation tabulaire"
   ]
  },
  {
   "cell_type": "code",
   "execution_count": null,
   "id": "e4385c3b",
   "metadata": {},
   "outputs": [],
   "source": [
    "results_df = pd.DataFrame(results)\n",
    "display(results_df.sort_values(by = \"val_iou\", ascending = False))"
   ]
  },
  {
   "cell_type": "markdown",
   "id": "2314cbc4",
   "metadata": {},
   "source": [
    "## 6.2 - Export CSV + log intermédiaire"
   ]
  },
  {
   "cell_type": "code",
   "execution_count": null,
   "id": "c13208d9",
   "metadata": {},
   "outputs": [],
   "source": [
    "results_df.to_csv(logs_dir / \"backbones_runs.csv\", index = False)"
   ]
  },
  {
   "cell_type": "markdown",
   "id": "ee3575a6",
   "metadata": {},
   "source": [
    "## 6.3 - Visualisation graphique"
   ]
  },
  {
   "cell_type": "code",
   "execution_count": null,
   "id": "4aad14ca",
   "metadata": {},
   "outputs": [],
   "source": [
    "plt.figure(figsize=(10,5))\n",
    "plt.bar(results_df[\"backbone\"], results_df[\"val_iou\"], color='cornflowerblue')\n",
    "plt.title(\"Comparaison des IoU par backbone\")\n",
    "plt.ylabel(\"Meilleur IoU\")\n",
    "plt.xlabel(\"Backbone\")\n",
    "plt.grid(True)\n",
    "plt.tight_layout()\n",
    "plt.savefig(outputs_dir / \"backbone_comparison_iou.png\")\n",
    "plt.show()"
   ]
  },
  {
   "cell_type": "markdown",
   "id": "7de1b5f9",
   "metadata": {},
   "source": [
    "## 6.4 - Heatmap IoU vs Dice"
   ]
  },
  {
   "cell_type": "code",
   "execution_count": null,
   "id": "8271896c",
   "metadata": {},
   "outputs": [],
   "source": [
    "heat_data = results_df.set_index(\"backbone\")[[\"val_iou\", \"val_dice\"]]\n",
    "plt.figure(figsize=(6, 4))\n",
    "sns.heatmap(heat_data, annot=True, cmap=\"Blues\", fmt=\".3f\")\n",
    "plt.title(\"Heatmap : IoU vs Dice\")\n",
    "plt.tight_layout()\n",
    "plt.savefig(outputs_dir / \"heatmap_iou_dice.png\")\n",
    "plt.show()"
   ]
  },
  {
   "cell_type": "markdown",
   "id": "d341359c",
   "metadata": {},
   "source": [
    "# 7 - Sélection du meilleur modèle + préparation pour Optuna\n",
    "## 7.1 - Sélection automatique du backbone le plus performant (IoU)"
   ]
  },
  {
   "cell_type": "code",
   "execution_count": null,
   "id": "70d1b3bf",
   "metadata": {},
   "outputs": [],
   "source": [
    "best_row = results_df.sort_values(by=\"val_iou\", ascending=False).iloc[0]\n",
    "best_backbone = best_row[\"backbone\"]\n",
    "print(f\"\\n🏆 Meilleur backbone sélectionné automatiquement : {best_backbone.upper()}\")"
   ]
  },
  {
   "cell_type": "markdown",
   "id": "bec29dbf",
   "metadata": {},
   "source": [
    "## 7.2 - Déclenchement d'un script Optuna personnalisé (prévu dans un fichier externe)"
   ]
  },
  {
   "cell_type": "code",
   "execution_count": null,
   "id": "5903c088",
   "metadata": {},
   "outputs": [],
   "source": [
    "from model_training.optimize_unet_with_optuna import run_optuna_for_backbone\n",
    "run_optuna_for_backbone(best_backbone, X_train, Y_train, X_val, Y_val)"
   ]
  }
 ],
 "metadata": {
  "kernelspec": {
   "display_name": "venv_p8",
   "language": "python",
   "name": "python3"
  },
  "language_info": {
   "codemirror_mode": {
    "name": "ipython",
    "version": 3
   },
   "file_extension": ".py",
   "mimetype": "text/x-python",
   "name": "python",
   "nbconvert_exporter": "python",
   "pygments_lexer": "ipython3",
   "version": "3.10.11"
  }
 },
 "nbformat": 4,
 "nbformat_minor": 5
}
