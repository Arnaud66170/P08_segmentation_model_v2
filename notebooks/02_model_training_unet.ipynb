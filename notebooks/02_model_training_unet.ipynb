{
 "cells": [
  {
   "cell_type": "markdown",
   "id": "05c986e5",
   "metadata": {},
   "source": [
    "# Notebook : 02_model_training_unet.ipynb\n",
    "- Objectif : entraîner un premier modèle U-Net sur Cityscapes (8 classes) avec pipeline MLOps\n",
    "# 1 - Imports & préparation"
   ]
  },
  {
   "cell_type": "code",
   "execution_count": null,
   "id": "b4c84a84",
   "metadata": {},
   "outputs": [
    {
     "name": "stdout",
     "output_type": "stream",
     "text": [
      "WARNING:tensorflow:From c:\\Users\\motar\\Desktop\\1-openclassrooms\\AI_Engineer\\1-projets\\P08\\P08_segmentation\\venv_p8\\lib\\site-packages\\keras\\src\\losses.py:2976: The name tf.losses.sparse_softmax_cross_entropy is deprecated. Please use tf.compat.v1.losses.sparse_softmax_cross_entropy instead.\n",
      "\n"
     ]
    },
    {
     "data": {
      "text/plain": [
       "False"
      ]
     },
     "execution_count": 1,
     "metadata": {},
     "output_type": "execute_result"
    }
   ],
   "source": [
    "import sys\n",
    "from pathlib import Path\n",
    "import numpy as np\n",
    "import matplotlib.pyplot as plt\n",
    "import tensorflow as tf\n",
    "from tensorflow import keras\n",
    "\n",
    "import mlflow\n",
    "mlflow.set_tracking_uri(\"file:./mlruns\")\n",
    "\n",
    "from dotenv import load_dotenv\n",
    "load_dotenv()"
   ]
  },
  {
   "cell_type": "code",
   "execution_count": 2,
   "id": "62833d17",
   "metadata": {},
   "outputs": [],
   "source": [
    "# Remonter à la racine du projet\n",
    "project_root = Path(\"..\").resolve()\n",
    "\n",
    "# Ajouter src/ au PYTHONPATH\n",
    "src_path = project_root / \"src\"\n",
    "if str(src_path) not in sys.path:\n",
    "    sys.path.append(str(src_path))"
   ]
  },
  {
   "cell_type": "code",
   "execution_count": 3,
   "id": "ffd85366",
   "metadata": {},
   "outputs": [],
   "source": [
    "from utils.utils import plot_history"
   ]
  },
  {
   "cell_type": "markdown",
   "id": "eeffada4",
   "metadata": {},
   "source": [
    "# 2 - Unet\n",
    "## 2.1 - Chargement des fonctions d'entraînement"
   ]
  },
  {
   "cell_type": "code",
   "execution_count": 4,
   "id": "4baca16d",
   "metadata": {},
   "outputs": [],
   "source": [
    "from model_training.train_unet import train_unet_model_from_npz\n",
    "from utils.utils import plot_history"
   ]
  },
  {
   "cell_type": "markdown",
   "id": "a9bc1b74",
   "metadata": {},
   "source": [
    "## 2.2 - Chargement des données .npz"
   ]
  },
  {
   "cell_type": "code",
   "execution_count": 5,
   "id": "0adcf550",
   "metadata": {},
   "outputs": [
    {
     "name": "stdout",
     "output_type": "stream",
     "text": [
      "[INFO] Chargement des fichiers .npz...\n",
      "✅ Train shape : (4000, 256, 256, 3) / (4000, 256, 256)\n",
      "✅ Val shape   : (500, 256, 256, 3) / (500, 256, 256)\n"
     ]
    }
   ],
   "source": [
    "print(\"[INFO] Chargement des fichiers .npz...\")\n",
    "data_dir = project_root / \"data\" / \"processed\" / \"augmented\"\n",
    "train = np.load(data_dir / \"train.npz\")\n",
    "val   = np.load(data_dir / \"val.npz\")\n",
    "\n",
    "X_train, Y_train = train[\"X\"], train[\"Y\"]\n",
    "X_val, Y_val     = val[\"X\"], val[\"Y\"]\n",
    "\n",
    "print(f\"✅ Train shape : {X_train.shape} / {Y_train.shape}\")\n",
    "print(f\"✅ Val shape   : {X_val.shape} / {Y_val.shape}\")"
   ]
  },
  {
   "cell_type": "markdown",
   "id": "2094c226",
   "metadata": {},
   "source": [
    "## 2.2 - Paramètres"
   ]
  },
  {
   "cell_type": "code",
   "execution_count": null,
   "id": "08079a51",
   "metadata": {},
   "outputs": [],
   "source": [
    "params_test = {\n",
    "    'img_size': (256, 256),\n",
    "    'epochs': 1,\n",
    "    'batch_size': 4,\n",
    "    'use_early_stopping': True,\n",
    "    'force_retrain': False\n",
    "}\n",
    "\n",
    "params_prod = {\n",
    "    'img_size': (256, 256),\n",
    "    'epochs': 40,\n",
    "    'batch_size': 8,\n",
    "    'use_early_stopping': True,\n",
    "    'force_retrain': False\n",
    "}"
   ]
  },
  {
   "cell_type": "markdown",
   "id": "8b750c67",
   "metadata": {},
   "source": [
    "# 3 - Entraînements\n",
    "## 3.1 - Test rapide"
   ]
  },
  {
   "cell_type": "code",
   "execution_count": 7,
   "id": "890c4c94",
   "metadata": {},
   "outputs": [
    {
     "name": "stdout",
     "output_type": "stream",
     "text": [
      "\n",
      "🔁 Entraînement rapide (TEST)...\n",
      "✅ Serveur MLflow déjà actif sur http://127.0.0.1:5000\n",
      "[LOG] ➤ train_unet_model_from_npz appelé\n",
      "[INFO] Initialisation du modèle UNet Mini...\n",
      "✅ Serveur MLflow déjà actif sur http://127.0.0.1:5000\n",
      "[LOG] ➤ unet_mini appelé\n",
      "WARNING:tensorflow:From c:\\Users\\motar\\Desktop\\1-openclassrooms\\AI_Engineer\\1-projets\\P08\\P08_segmentation\\venv_p8\\lib\\site-packages\\keras\\src\\backend.py:1398: The name tf.executing_eagerly_outside_functions is deprecated. Please use tf.compat.v1.executing_eagerly_outside_functions instead.\n",
      "\n",
      "WARNING:tensorflow:From c:\\Users\\motar\\Desktop\\1-openclassrooms\\AI_Engineer\\1-projets\\P08\\P08_segmentation\\venv_p8\\lib\\site-packages\\keras\\src\\layers\\pooling\\max_pooling2d.py:161: The name tf.nn.max_pool is deprecated. Please use tf.nn.max_pool2d instead.\n",
      "\n",
      "WARNING:tensorflow:From c:\\Users\\motar\\Desktop\\1-openclassrooms\\AI_Engineer\\1-projets\\P08\\P08_segmentation\\venv_p8\\lib\\site-packages\\keras\\src\\optimizers\\__init__.py:309: The name tf.train.Optimizer is deprecated. Please use tf.compat.v1.train.Optimizer instead.\n",
      "\n",
      "WARNING:tensorflow:From c:\\Users\\motar\\Desktop\\1-openclassrooms\\AI_Engineer\\1-projets\\P08\\P08_segmentation\\venv_p8\\lib\\site-packages\\keras\\src\\utils\\tf_utils.py:492: The name tf.ragged.RaggedTensorValue is deprecated. Please use tf.compat.v1.ragged.RaggedTensorValue instead.\n",
      "\n",
      "WARNING:tensorflow:From c:\\Users\\motar\\Desktop\\1-openclassrooms\\AI_Engineer\\1-projets\\P08\\P08_segmentation\\venv_p8\\lib\\site-packages\\keras\\src\\engine\\base_layer_utils.py:384: The name tf.executing_eagerly_outside_functions is deprecated. Please use tf.compat.v1.executing_eagerly_outside_functions instead.\n",
      "\n",
      "1000/1000 [==============================] - 591s 589ms/step - loss: 1.1911 - accuracy: 0.4829 - iou_score: 0.3265 - dice_coef: 0.4829 - val_loss: 1.0074 - val_accuracy: 0.5388 - val_iou_score: 0.3796 - val_dice_coef: 0.5388\n"
     ]
    },
    {
     "name": "stderr",
     "output_type": "stream",
     "text": [
      "c:\\Users\\motar\\Desktop\\1-openclassrooms\\AI_Engineer\\1-projets\\P08\\P08_segmentation\\venv_p8\\lib\\site-packages\\keras\\src\\engine\\training.py:3103: UserWarning: You are saving your model as an HDF5 file via `model.save()`. This file format is considered legacy. We recommend using instead the native Keras format, e.g. `model.save('my_model.keras')`.\n",
      "  saving_api.save_model(\n"
     ]
    },
    {
     "name": "stdout",
     "output_type": "stream",
     "text": [
      "[LOG] ➤ plot_history appelé\n"
     ]
    },
    {
     "data": {
      "image/png": "[encoded data removed]",
      "text/plain": [
       "<Figure size 1000x400 with 2 Axes>"
      ]
     },
     "metadata": {},
     "output_type": "display_data"
    },
    {
     "name": "stderr",
     "output_type": "stream",
     "text": [
      "2025/04/17 15:17:59 WARNING mlflow.tensorflow: You are saving a TensorFlow Core model or Keras model without a signature. Inference with mlflow.pyfunc.spark_udf() will not work unless the model's pyfunc representation accepts pandas DataFrames as inference inputs.\n"
     ]
    },
    {
     "name": "stdout",
     "output_type": "stream",
     "text": [
      "INFO:tensorflow:Assets written to: C:\\Users\\motar\\AppData\\Local\\Temp\\tmp6xz00okf\\model\\data\\model\\assets\n"
     ]
    },
    {
     "name": "stderr",
     "output_type": "stream",
     "text": [
      "INFO:tensorflow:Assets written to: C:\\Users\\motar\\AppData\\Local\\Temp\\tmp6xz00okf\\model\\data\\model\\assets\n",
      "2025/04/17 15:18:09 WARNING mlflow.utils.environment: Encountered an unexpected error while inferring pip requirements (model URI: C:\\Users\\motar\\AppData\\Local\\Temp\\tmp6xz00okf\\model, flavor: tensorflow). Fall back to return ['tensorflow==2.15.0', 'cloudpickle==3.1.1']. Set logging level to DEBUG to see the full traceback. \n",
      "c:\\Users\\motar\\Desktop\\1-openclassrooms\\AI_Engineer\\1-projets\\P08\\P08_segmentation\\venv_p8\\lib\\site-packages\\_distutils_hack\\__init__.py:33: UserWarning: Setuptools is replacing distutils.\n",
      "  warnings.warn(\"Setuptools is replacing distutils.\")\n"
     ]
    }
   ],
   "source": [
    "print(\"\\n🔁 Entraînement rapide (TEST)...\")\n",
    "model_test, history_test = train_unet_model_from_npz(\n",
    "    X_train, Y_train, X_val, Y_val,\n",
    "    **params_test\n",
    ")"
   ]
  },
  {
   "cell_type": "markdown",
   "id": "84d8a74d",
   "metadata": {},
   "source": [
    "### 3.1.1 - Résumé du modèle et courbe d'apprentissage"
   ]
  },
  {
   "cell_type": "code",
   "execution_count": null,
   "id": "0c2aa0fc",
   "metadata": {},
   "outputs": [
    {
     "name": "stdout",
     "output_type": "stream",
     "text": [
      "\n",
      "🧠 Résumé du modèle UNet Mini (TEST) :\n",
      "Model: \"model\"\n",
      "__________________________________________________________________________________________________\n",
      " Layer (type)                Output Shape                 Param #   Connected to                  \n",
      "==================================================================================================\n",
      " input_1 (InputLayer)        [(None, 256, 256, 3)]        0         []                            \n",
      "                                                                                                  \n",
      " conv2d (Conv2D)             (None, 256, 256, 32)         896       ['input_1[0][0]']             \n",
      "                                                                                                  \n",
      " conv2d_1 (Conv2D)           (None, 256, 256, 32)         9248      ['conv2d[0][0]']              \n",
      "                                                                                                  \n",
      " max_pooling2d (MaxPooling2  (None, 128, 128, 32)         0         ['conv2d_1[0][0]']            \n",
      " D)                                                                                               \n",
      "                                                                                                  \n",
      " conv2d_2 (Conv2D)           (None, 128, 128, 64)         18496     ['max_pooling2d[0][0]']       \n",
      "                                                                                                  \n",
      " conv2d_3 (Conv2D)           (None, 128, 128, 64)         36928     ['conv2d_2[0][0]']            \n",
      "                                                                                                  \n",
      " max_pooling2d_1 (MaxPoolin  (None, 64, 64, 64)           0         ['conv2d_3[0][0]']            \n",
      " g2D)                                                                                             \n",
      "                                                                                                  \n",
      " conv2d_4 (Conv2D)           (None, 64, 64, 128)          73856     ['max_pooling2d_1[0][0]']     \n",
      "                                                                                                  \n",
      " up_sampling2d (UpSampling2  (None, 128, 128, 128)        0         ['conv2d_4[0][0]']            \n",
      " D)                                                                                               \n",
      "                                                                                                  \n",
      " concatenate (Concatenate)   (None, 128, 128, 192)        0         ['up_sampling2d[0][0]',       \n",
      "                                                                     'conv2d_3[0][0]']            \n",
      "                                                                                                  \n",
      " conv2d_5 (Conv2D)           (None, 128, 128, 64)         110656    ['concatenate[0][0]']         \n",
      "                                                                                                  \n",
      " up_sampling2d_1 (UpSamplin  (None, 256, 256, 64)         0         ['conv2d_5[0][0]']            \n",
      " g2D)                                                                                             \n",
      "                                                                                                  \n",
      " concatenate_1 (Concatenate  (None, 256, 256, 96)         0         ['up_sampling2d_1[0][0]',     \n",
      " )                                                                   'conv2d_1[0][0]']            \n",
      "                                                                                                  \n",
      " conv2d_6 (Conv2D)           (None, 256, 256, 32)         27680     ['concatenate_1[0][0]']       \n",
      "                                                                                                  \n",
      " conv2d_7 (Conv2D)           (None, 256, 256, 8)          264       ['conv2d_6[0][0]']            \n",
      "                                                                                                  \n",
      "==================================================================================================\n",
      "Total params: 278024 (1.06 MB)\n",
      "Trainable params: 278024 (1.06 MB)\n",
      "Non-trainable params: 0 (0.00 Byte)\n",
      "__________________________________________________________________________________________________\n",
      "[LOG] ➤ plot_history appelé\n",
      "[WARN] ⛔ Aucun historique d'entraînement à tracer.\n"
     ]
    }
   ],
   "source": [
    "print(\"\\n🧠 Résumé du modèle UNet Mini (TEST) :\")\n",
    "model_test.summary()\n",
    "from pathlib import Path\n",
    "output_dir = project_root / \"outputs\" / \"figures\"\n",
    "output_dir.mkdir(parents=True, exist_ok = True)\n",
    "\n",
    "plot_history(history_test, output_dir / \"history_test.png\")"
   ]
  },
  {
   "cell_type": "markdown",
   "id": "f36ec530",
   "metadata": {},
   "source": [
    "### 3.1.2 - courbes IoU et Dice"
   ]
  },
  {
   "cell_type": "code",
   "execution_count": 10,
   "id": "47ca23c2",
   "metadata": {},
   "outputs": [
    {
     "data": {
      "image/png": "[encoded data removed]",
      "text/plain": [
       "<Figure size 1000x400 with 1 Axes>"
      ]
     },
     "metadata": {},
     "output_type": "display_data"
    }
   ],
   "source": [
    "plt.figure(figsize=(10,4))\n",
    "plt.plot(history_test['val_iou_score'], label='val_iou_score')\n",
    "plt.plot(history_test['val_dice_coef'], label='val_dice_coef')\n",
    "plt.title('Courbes de validation : IoU & Dice')\n",
    "plt.xlabel('Epochs')\n",
    "plt.ylabel('Score')\n",
    "plt.legend()\n",
    "plt.grid(True)\n",
    "plt.show()"
   ]
  },
  {
   "cell_type": "markdown",
   "id": "8f56a0c8",
   "metadata": {},
   "source": [
    "## 3.2 - Entraînement PROD complet"
   ]
  },
  {
   "cell_type": "code",
   "execution_count": null,
   "id": "9420e9ca",
   "metadata": {},
   "outputs": [
    {
     "name": "stdout",
     "output_type": "stream",
     "text": [
      "\n",
      "🚀 Entraînement complet (PROD)...\n",
      "✅ Serveur MLflow déjà actif sur http://127.0.0.1:5000\n",
      "[LOG] ➤ train_unet_model_from_npz appelé\n",
      "[INFO] Initialisation du modèle UNet Mini...\n",
      "✅ Serveur MLflow déjà actif sur http://127.0.0.1:5000\n",
      "[LOG] ➤ unet_mini appelé\n",
      "Epoch 1/40\n",
      "500/500 [==============================] - 632s 1s/step - loss: 1.1999 - accuracy: 0.4842 - iou_score: 0.3247 - dice_coef: 0.4842 - val_loss: 1.0096 - val_accuracy: 0.5411 - val_iou_score: 0.3746 - val_dice_coef: 0.5407\n",
      "Epoch 2/40\n"
     ]
    },
    {
     "name": "stderr",
     "output_type": "stream",
     "text": [
      "c:\\Users\\motar\\Desktop\\1-openclassrooms\\AI_Engineer\\1-projets\\P08\\P08_segmentation\\venv_p8\\lib\\site-packages\\keras\\src\\engine\\training.py:3103: UserWarning: You are saving your model as an HDF5 file via `model.save()`. This file format is considered legacy. We recommend using instead the native Keras format, e.g. `model.save('my_model.keras')`.\n",
      "  saving_api.save_model(\n"
     ]
    },
    {
     "name": "stdout",
     "output_type": "stream",
     "text": [
      "500/500 [==============================] - 622s 1s/step - loss: 0.9986 - accuracy: 0.5556 - iou_score: 0.3895 - dice_coef: 0.5556 - val_loss: 0.9393 - val_accuracy: 0.5654 - val_iou_score: 0.3984 - val_dice_coef: 0.5648\n",
      "Epoch 3/40\n",
      "500/500 [==============================] - 614s 1s/step - loss: 0.9386 - accuracy: 0.5779 - iou_score: 0.4126 - dice_coef: 0.5779 - val_loss: 0.9037 - val_accuracy: 0.5685 - val_iou_score: 0.3999 - val_dice_coef: 0.5682\n",
      "Epoch 4/40\n",
      "500/500 [==============================] - 617s 1s/step - loss: 0.9139 - accuracy: 0.5849 - iou_score: 0.4190 - dice_coef: 0.5849 - val_loss: 0.9685 - val_accuracy: 0.5543 - val_iou_score: 0.3890 - val_dice_coef: 0.5538\n",
      "Epoch 5/40\n",
      "500/500 [==============================] - 630s 1s/step - loss: 0.8866 - accuracy: 0.5951 - iou_score: 0.4301 - dice_coef: 0.5951 - val_loss: 0.8712 - val_accuracy: 0.5904 - val_iou_score: 0.4281 - val_dice_coef: 0.5896\n",
      "Epoch 6/40\n",
      "500/500 [==============================] - 624s 1s/step - loss: 0.8647 - accuracy: 0.6020 - iou_score: 0.4378 - dice_coef: 0.6020 - val_loss: 0.8408 - val_accuracy: 0.6016 - val_iou_score: 0.4365 - val_dice_coef: 0.6008\n",
      "Epoch 7/40\n",
      "500/500 [==============================] - 619s 1s/step - loss: 0.8523 - accuracy: 0.6064 - iou_score: 0.4427 - dice_coef: 0.6064 - val_loss: 0.8766 - val_accuracy: 0.5794 - val_iou_score: 0.4143 - val_dice_coef: 0.5787\n",
      "Epoch 8/40\n",
      "500/500 [==============================] - 629s 1s/step - loss: 0.8355 - accuracy: 0.6138 - iou_score: 0.4502 - dice_coef: 0.6138 - val_loss: 0.8856 - val_accuracy: 0.5821 - val_iou_score: 0.4217 - val_dice_coef: 0.5812\n",
      "Epoch 9/40\n",
      "500/500 [==============================] - 624s 1s/step - loss: 0.8278 - accuracy: 0.6166 - iou_score: 0.4528 - dice_coef: 0.6166 - val_loss: 0.8352 - val_accuracy: 0.6008 - val_iou_score: 0.4411 - val_dice_coef: 0.5999\n",
      "Epoch 10/40\n",
      "500/500 [==============================] - 610s 1s/step - loss: 0.8225 - accuracy: 0.6205 - iou_score: 0.4574 - dice_coef: 0.6205 - val_loss: 0.8317 - val_accuracy: 0.6016 - val_iou_score: 0.4358 - val_dice_coef: 0.6004\n",
      "Epoch 11/40\n",
      "500/500 [==============================] - 628s 1s/step - loss: 0.8123 - accuracy: 0.6230 - iou_score: 0.4616 - dice_coef: 0.6230 - val_loss: 0.8187 - val_accuracy: 0.6085 - val_iou_score: 0.4442 - val_dice_coef: 0.6075\n",
      "Epoch 12/40\n",
      "500/500 [==============================] - 627s 1s/step - loss: 0.8068 - accuracy: 0.6258 - iou_score: 0.4634 - dice_coef: 0.6258 - val_loss: 0.7970 - val_accuracy: 0.6166 - val_iou_score: 0.4571 - val_dice_coef: 0.6156\n",
      "Epoch 13/40\n",
      "500/500 [==============================] - 628s 1s/step - loss: 0.7953 - accuracy: 0.6310 - iou_score: 0.4678 - dice_coef: 0.6310 - val_loss: 0.7993 - val_accuracy: 0.6169 - val_iou_score: 0.4531 - val_dice_coef: 0.6158\n",
      "Epoch 14/40\n",
      "500/500 [==============================] - 600s 1s/step - loss: 0.7902 - accuracy: 0.6319 - iou_score: 0.4696 - dice_coef: 0.6319 - val_loss: 0.7939 - val_accuracy: 0.6203 - val_iou_score: 0.4602 - val_dice_coef: 0.6190\n",
      "Epoch 15/40\n",
      "500/500 [==============================] - 617s 1s/step - loss: 0.7872 - accuracy: 0.6326 - iou_score: 0.4710 - dice_coef: 0.6326 - val_loss: 0.7935 - val_accuracy: 0.6167 - val_iou_score: 0.4542 - val_dice_coef: 0.6158\n",
      "Epoch 16/40\n",
      "139/500 [=======>......................] - ETA: 7:17 - loss: 0.7913 - accuracy: 0.6264 - iou_score: 0.4633 - dice_coef: 0.6264"
     ]
    }
   ],
   "source": [
    "print(\"\\n🚀 Entraînement complet (PROD)...\")\n",
    "model_prod, history_prod = train_unet_model_from_npz(\n",
    "    X_train, Y_train, X_val, Y_val,\n",
    "    **params_prod\n",
    ")"
   ]
  },
  {
   "cell_type": "markdown",
   "id": "f3b58fea",
   "metadata": {},
   "source": [
    "### 3.2.1 - Résumé final du modèle + graphe"
   ]
  },
  {
   "cell_type": "code",
   "execution_count": null,
   "id": "a810171f",
   "metadata": {},
   "outputs": [],
   "source": [
    "print(\"\\n🧠 Résumé du modèle UNet Mini (PROD) :\")\n",
    "model_prod.summary()\n",
    "plot_history(history_prod, output_dir / \"history_prod.png\")"
   ]
  },
  {
   "cell_type": "code",
   "execution_count": null,
   "id": "fc993879",
   "metadata": {},
   "outputs": [],
   "source": [
    "plt.figure(figsize=(10,4))\n",
    "plt.plot(history_prod['val_iou_score'], label='val_iou_score')\n",
    "plt.plot(history_prod['val_dice_coef'], label='val_dice_coef')\n",
    "plt.title('Courbes de validation : IoU & Dice (PROD)')\n",
    "plt.xlabel('Epochs')\n",
    "plt.ylabel('Score')\n",
    "plt.legend()\n",
    "plt.grid(True)\n",
    "plt.show()"
   ]
  },
  {
   "cell_type": "code",
   "execution_count": null,
   "id": "f12ffb4f",
   "metadata": {},
   "outputs": [],
   "source": []
  }
 ],
 "metadata": {
  "kernelspec": {
   "display_name": "venv_p8",
   "language": "python",
   "name": "python3"
  },
  "language_info": {
   "codemirror_mode": {
    "name": "ipython",
    "version": 3
   },
   "file_extension": ".py",
   "mimetype": "text/x-python",
   "name": "python",
   "nbconvert_exporter": "python",
   "pygments_lexer": "ipython3",
   "version": "3.10.11"
  }
 },
 "nbformat": 4,
 "nbformat_minor": 5
}
